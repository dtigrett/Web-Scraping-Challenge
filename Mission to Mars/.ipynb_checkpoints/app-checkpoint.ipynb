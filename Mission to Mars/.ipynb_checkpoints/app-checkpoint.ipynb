{
 "cells": [
  {
   "cell_type": "code",
   "execution_count": 1,
   "metadata": {},
   "outputs": [
    {
     "ename": "IndentationError",
     "evalue": "unexpected indent (scrape_mars.py, line 129)",
     "output_type": "error",
     "traceback": [
      "Traceback \u001b[1;36m(most recent call last)\u001b[0m:\n",
      "  File \u001b[0;32m\"C:\\Users\\12096\\anaconda3\\lib\\site-packages\\IPython\\core\\interactiveshell.py\"\u001b[0m, line \u001b[0;32m3331\u001b[0m, in \u001b[0;35mrun_code\u001b[0m\n    exec(code_obj, self.user_global_ns, self.user_ns)\n",
      "\u001b[1;36m  File \u001b[1;32m\"<ipython-input-1-b3b9b21630c3>\"\u001b[1;36m, line \u001b[1;32m3\u001b[1;36m, in \u001b[1;35m<module>\u001b[1;36m\u001b[0m\n\u001b[1;33m    import scrape_mars\u001b[0m\n",
      "\u001b[1;36m  File \u001b[1;32m\"c:\\Users\\12096\\Desktop\\HW Week 12\\12-Web-Scraping-and-Document-Databases\\scrape_mars.py\"\u001b[1;36m, line \u001b[1;32m129\u001b[0m\n\u001b[1;33m    browser.quit()\u001b[0m\n\u001b[1;37m    ^\u001b[0m\n\u001b[1;31mIndentationError\u001b[0m\u001b[1;31m:\u001b[0m unexpected indent\n"
     ]
    }
   ],
   "source": [
    "from flask import Flask, render_template,redirect\n",
    "from flask_pymongo import PyMongo\n",
    "import scrape_mars\n",
    "\n",
    "\n",
    "\n",
    "app = Flask(__name__)\n",
    "\n",
    "\n",
    "app.config[\"MONGO_URI\"] = \"mongodb://localhost:27017/mars_app\"\n",
    "mongo = PyMongo(app)\n",
    "\n",
    "# Connect to a database. Will create one if not already available.\n",
    "#db = client.team_db\n",
    "\n",
    "# Create route that renders index.html template and finds documents from mongo\n",
    "@app.route(\"/\")\n",
    "def index(): \n",
    "\n",
    "    # Find data\n",
    "    mars_info = mongo.db.mars_info.find_one()\n",
    "\n",
    "    # Return template and data\n",
    "    return render_template(\"index.html\", mars_info=mars_info)\n",
    "\n",
    "# Route that will trigger scrape function\n",
    "@app.route(\"/scrape\")\n",
    "def scrape(): \n",
    "\n",
    "    # Run scrapped functions\n",
    "    mars_info = mongo.db.mars_info\n",
    "    mars_data = scrape_mars.scrape_mars_news()\n",
    "    mars_data = scrape_mars.scrape_mars_image()\n",
    "    mars_data = scrape_mars.scrape_mars_facts()\n",
    "    mars_data = scrape_mars.scrape_mars_weather()\n",
    "    mars_data = scrape_mars.scrape_mars_hemispheres()\n",
    "    mars_info.update({}, mars_data, upsert=True)\n",
    "\n",
    "\n",
    "    return redirect(\"/\", code=302)\n",
    "\n",
    "if __name__ == \"__main__\": \n",
    "    app.run(debug= True)\n",
    "\n",
    "\n",
    "\n",
    "\n",
    "\n"
   ]
  },
  {
   "cell_type": "code",
   "execution_count": null,
   "metadata": {},
   "outputs": [],
   "source": []
  },
  {
   "cell_type": "code",
   "execution_count": null,
   "metadata": {},
   "outputs": [],
   "source": []
  }
 ],
 "metadata": {
  "kernelspec": {
   "display_name": "Python 3",
   "language": "python",
   "name": "python3"
  },
  "language_info": {
   "codemirror_mode": {
    "name": "ipython",
    "version": 3
   },
   "file_extension": ".py",
   "mimetype": "text/x-python",
   "name": "python",
   "nbconvert_exporter": "python",
   "pygments_lexer": "ipython3",
   "version": "3.7.6"
  }
 },
 "nbformat": 4,
 "nbformat_minor": 4
}
